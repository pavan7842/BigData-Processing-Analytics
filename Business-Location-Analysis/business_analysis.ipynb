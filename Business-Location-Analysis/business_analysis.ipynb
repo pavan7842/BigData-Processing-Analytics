{
  "nbformat": 4,
  "nbformat_minor": 0,
  "metadata": {
    "colab": {
      "provenance": []
    },
    "kernelspec": {
      "name": "python3",
      "display_name": "Python 3"
    },
    "language_info": {
      "name": "python"
    }
  },
  "cells": [
    {
      "cell_type": "code",
      "execution_count": 11,
      "metadata": {
        "colab": {
          "base_uri": "https://localhost:8080/"
        },
        "id": "n8Cb3_AXyJcf",
        "outputId": "010c4851-d2b7-4646-dbf7-36db16e27641"
      },
      "outputs": [
        {
          "output_type": "stream",
          "name": "stdout",
          "text": [
            "Looking in indexes: https://pypi.org/simple, https://us-python.pkg.dev/colab-wheels/public/simple/\n",
            "Requirement already satisfied: unqlite in /usr/local/lib/python3.7/dist-packages (0.9.3)\n",
            "Requirement already satisfied: Cython in /usr/local/lib/python3.7/dist-packages (from unqlite) (0.29.32)\n"
          ]
        }
      ],
      "source": [
        "pip install unqlite"
      ]
    },
    {
      "cell_type": "code",
      "source": [
        "from unqlite import UnQLite\n",
        "db = UnQLite('sample.db')\n",
        "data = db.collection('data')\n",
        "import math"
      ],
      "metadata": {
        "id": "C-KY38gPyNUp"
      },
      "execution_count": 12,
      "outputs": []
    },
    {
      "cell_type": "code",
      "source": [
        "def FindBusinessBasedOnCity(cityToSearch, saveLocation1, collection):\n",
        "    \n",
        "    businesses = []\n",
        "    for idx in range(len(collection.all())):\n",
        "        data_point = collection.fetch(idx)\n",
        "        \n",
        "        if data_point['city'] == cityToSearch:\n",
        "            businesses.append([data_point['name'], data_point['full_address'], data_point['city'], data_point['state']])\n",
        "    \n",
        "    f = open(saveLocation1, 'w')\n",
        "    for attr in businesses:\n",
        "        f.write('$'.join(str(s) for s in attr))\n",
        "        f.write('\\n')\n",
        "    f.close()\n"
      ],
      "metadata": {
        "id": "b_oySzJFyhPu"
      },
      "execution_count": 14,
      "outputs": []
    },
    {
      "cell_type": "code",
      "source": [
        "def FindBusinessBasedOnLocation(categoriesToSearch, myLocation, maxDistance, saveLocation2, collection):\n",
        "    names = []\n",
        "\n",
        "    # get my location\n",
        "    lat1 = myLocation[0]\n",
        "    lon1 = myLocation[1]\n",
        "    \n",
        "    # example category attribute in data point: 'categories': ['Restaurants', 'Buffets', 'Italian']\n",
        "    for idx in range(len(collection.all())):\n",
        "        data_point = collection.fetch(idx)\n",
        "        lat2 = data_point['latitude']\n",
        "        lon2 = data_point['longitude']\n",
        "\n",
        "        # filter by location and category\n",
        "        distance = DistanceFunction(lat2, lon2, lat1, lon1)\n",
        "        if distance <= maxDistance:\n",
        "            for category in categoriesToSearch:\n",
        "                if category in data_point['categories']:\n",
        "                    names.append(data_point['name'])\n",
        "\n",
        "    f = open(saveLocation2, 'w')\n",
        "    names = set(names)\n",
        "    for name in names:\n",
        "        f.write(name + '\\n')\n",
        "    f.close()\n"
      ],
      "metadata": {
        "id": "m_vmqkglyuba"
      },
      "execution_count": 15,
      "outputs": []
    },
    {
      "cell_type": "code",
      "source": [
        "def DistanceFunction(lat2, lon2, lat1, lon1):\n",
        "    \n",
        "    R = 3959\n",
        "    phi1 = math.radians(lat1)\n",
        "    phi2 = math.radians(lat2)\n",
        "    delta_phi = math.radians(lat2 - lat1)\n",
        "    delta_lambda = math.radians(lon2 - lon1)\n",
        "    a = math.sin(delta_phi/2) * math.sin(delta_phi/2) + math.cos(phi1) * math.cos(phi2) * math.sin(delta_lambda/2)* math.sin(delta_lambda/2)\n",
        "    c = 2 * math.atan2(math.sqrt(a), math.sqrt(1 - a))\n",
        "    d = R * c\n",
        "    return d"
      ],
      "metadata": {
        "id": "SC7nFwzpy3kf"
      },
      "execution_count": 16,
      "outputs": []
    },
    {
      "cell_type": "code",
      "source": [
        "# citytestcase 1\n",
        "\n",
        "true_results = [\"VinciTorio's Restaurant$1835 E Elliot Rd, Ste C109, Tempe, AZ 85284$Tempe$AZ\", \"P.croissants$7520 S Rural Rd, Tempe, AZ 85283$Tempe$AZ\", \"Salt Creek Home$1725 W Ruby Dr, Tempe, AZ 85284$Tempe$AZ\"]\n",
        "\n",
        "try:\n",
        "    FindBusinessBasedOnCity('Tempe', 'output_city_01.txt', data)\n",
        "except NameError as e:\n",
        "    print ('The FindBusinessBasedOnCity function is not defined! You must run the cell containing the function before running this evaluation cell.')\n",
        "except TypeError as e:\n",
        "    print (\"The FindBusinessBasedOnCity function is supposed to accept three arguments. Yours does not!\")\n",
        "    \n",
        "try:\n",
        "    opf = open('output_city_01.txt', 'r')\n",
        "except FileNotFoundError as e:\n",
        "    print (\"The FindBusinessBasedOnCity function does not write data to the correct location.\")\n",
        "    \n",
        "lines = opf.readlines()\n",
        "if len(lines) != 3:\n",
        "    print (\"The FindBusinessBasedOnCity function does not find the correct number of results, should be 3.\")\n",
        "    \n",
        "lines = [line.strip() for line in lines]\n",
        "if sorted(lines) == sorted(true_results):\n",
        "    print (\"Correct! You FindBusinessByCity function passes these test cases. This does not cover all possible test edge cases, however, so make sure that your function covers them before submitting!\")"
      ],
      "metadata": {
        "colab": {
          "base_uri": "https://localhost:8080/"
        },
        "id": "d2zziY9py4qZ",
        "outputId": "5de56e25-95c9-4cca-f3e7-9950f022f537"
      },
      "execution_count": 17,
      "outputs": [
        {
          "output_type": "stream",
          "name": "stdout",
          "text": [
            "Correct! You FindBusinessByCity function passes these test cases. This does not cover all possible test edge cases, however, so make sure that your function covers them before submitting!\n"
          ]
        }
      ]
    },
    {
      "cell_type": "code",
      "source": [
        "#city test case 2\n",
        "\n",
        "true_results =['3 Palms$7707 E McDowell Rd, Scottsdale, AZ 85257$Scottsdale$AZ', \"Bob's Bike Shop$1608 N Miller Rd, Scottsdale, AZ 85257$Scottsdale$AZ\", 'Ronan & Tagart, PLC$8980 E Raintree Dr, Ste 120, Scottsdale, AZ 85260$Scottsdale$AZ', \"Sangria's$7700 E McCormick Pkwy, Scottsdale, AZ 85258$Scottsdale$AZ\", 'Turf Direct$8350 E Evans Rd, Scottsdale, AZ 85260$Scottsdale$AZ']\n",
        "try: \n",
        "  FindBusinessBasedOnCity('Scottsdale', 'output_city_02.txt', data) \n",
        "except NameError as e: \n",
        "  print ('The FindBusinessBasedOnCity function is not defined! You must run the cell containing the function before running this evaluation cell.') \n",
        "except TypeError as e: \n",
        "  print(e) \n",
        "  print (\"The FindBusinessBasedOnCity function is supposed to accept three arguments. Yours does not!\") \n",
        "try: \n",
        "  opf = open('output_city_02.txt', 'r') \n",
        "except FileNotFoundError as e: \n",
        "  print (\"The FindBusinessBasedOnCity function does not write data to the correct location.\") \n",
        "lines = opf.readlines()\n",
        "if len(lines) != 5:\n",
        "  print (\"The FindBusinessBasedOnCity function does not find the correct number of results, should be 3.\") \n",
        "lines = [line.strip() for line in lines]\n",
        "if sorted(lines) == sorted(true_results):\n",
        "  print (\"Correct! You FindBusinessByCity function passes these test cases. This does not cover all possible test edge cases, however, so make sure that your function covers them before submitting!\")\n"
      ],
      "metadata": {
        "colab": {
          "base_uri": "https://localhost:8080/"
        },
        "id": "9ZmgV38nzFO5",
        "outputId": "22331822-d10b-428f-efdd-df003886f843"
      },
      "execution_count": 18,
      "outputs": [
        {
          "output_type": "stream",
          "name": "stdout",
          "text": [
            "Correct! You FindBusinessByCity function passes these test cases. This does not cover all possible test edge cases, however, so make sure that your function covers them before submitting!\n"
          ]
        }
      ]
    },
    {
      "cell_type": "code",
      "source": [
        "# city test case 3\n",
        "\n",
        "true_results =['Arizona Exterminating Co.$521 E Broadway Rd, Mesa, AZ 85204$Mesa$AZ', 'Bikram Yoga$1940 W 8th St, Ste 111, Mesa, AZ 85202$Mesa$AZ', \"Denny's Restaurant$1330 S Power Rd, Mesa, AZ 85206$Mesa$AZ\", 'Diamondback Gymnastics$7211 E Southern Avenue, Mesa, AZ 85209$Mesa$AZ', 'Southeast Valley Medical Group$1950 S Country Club Dr, Mesa, AZ 85210$Mesa$AZ', 'Spa Pima$2150 S Power Rd, Mesa, AZ 85209$Mesa$AZ', 'The Seafood Market$1910 S Gilbert Rd, Mesa, AZ 85204$Mesa$AZ']\n",
        "try:\n",
        "  FindBusinessBasedOnCity('Mesa', 'output_city_03.txt', data) \n",
        "except NameError as e: \n",
        "  print ('The FindBusinessBasedOnCity function is not defined! You must run the cell containing the function before running this evaluation cell.') \n",
        "except TypeError as e: \n",
        "  print(e) \n",
        "  print (\"The FindBusinessBasedOnCity function is supposed to accept three arguments. Yours does not!\") \n",
        "try: \n",
        "  opf = open('output_city_03.txt', 'r') \n",
        "except FileNotFoundError as e: \n",
        "  print (\"The FindBusinessBasedOnCity function does not write data to the correct location.\") \n",
        "lines = opf.readlines()\n",
        "if len(lines) != 7:\n",
        "  print (\"The FindBusinessBasedOnCity function does not find the correct number of results, should be 3.\") \n",
        "lines = [line.strip() for line in lines]\n",
        "if sorted(lines) == sorted(true_results):\n",
        "  print (\"Correct! You FindBusinessByCity function passes these test cases. This does not cover all possible test edge cases, however, so make sure that your function covers them before submitting!\") \n"
      ],
      "metadata": {
        "colab": {
          "base_uri": "https://localhost:8080/"
        },
        "id": "Ke4p5zyaz4Ir",
        "outputId": "5adfe31d-7eb5-4522-ff9b-f87e46aa34c0"
      },
      "execution_count": 19,
      "outputs": [
        {
          "output_type": "stream",
          "name": "stdout",
          "text": [
            "Correct! You FindBusinessByCity function passes these test cases. This does not cover all possible test edge cases, however, so make sure that your function covers them before submitting!\n"
          ]
        }
      ]
    },
    {
      "cell_type": "code",
      "source": [
        "# Location test case 1\n",
        "\n",
        "true_results =['The Seafood Market']\n",
        "try: \n",
        "  FindBusinessBasedOnLocation(['Specialty Food'], [33.3482589, -111.9088346], 10, 'output_loc_01.txt', data) \n",
        "except NameError as e: \n",
        "  print ('The FindBusinessBasedOnLocation function is not defined! You must run the cell containing the function before running this evaluation cell.') \n",
        "except TypeError as e: \n",
        "  print (\"The FindBusinessBasedOnLocation function is supposed to accept five arguments. Yours does not!\") \n",
        "try:\n",
        "  opf = open('output_loc_01.txt','r') \n",
        "except FileNotFoundError as e: \n",
        "  print (\"The FindBusinessBasedOnLocation function does not write data to the correct location.\") \n",
        "lines = opf.readlines()\n",
        "if len(lines) != 1:\n",
        "  print (\"The FindBusinessBasedOnLocation function does not find the correct number of results, should be only 1.\") \n",
        "lines = [line.strip() for line in lines]\n",
        "if sorted(lines) == sorted(true_results):\n",
        "  print (\"Correct! Your FindBusinessBasedOnLocation function passes these test cases. This does not cover all possible edge cases, so make sure your function does before submitting.\")\n"
      ],
      "metadata": {
        "colab": {
          "base_uri": "https://localhost:8080/"
        },
        "id": "KSQdIK9Y0L-H",
        "outputId": "7286ed7c-5b2b-467a-b966-6d615721737c"
      },
      "execution_count": 20,
      "outputs": [
        {
          "output_type": "stream",
          "name": "stdout",
          "text": [
            "Correct! Your FindBusinessBasedOnLocation function passes these test cases. This does not cover all possible edge cases, so make sure your function does before submitting.\n"
          ]
        }
      ]
    },
    {
      "cell_type": "code",
      "source": [
        "# Location test case 2\n",
        "\n",
        "true_results = ['P.croissants'] \n",
        "try: \n",
        "  FindBusinessBasedOnLocation(['Bakeries'], [33.3482589, -111.9088346], 10, 'output_loc_02.txt', data) \n",
        "except NameError as e: \n",
        "  print ('The FindBusinessBasedOnLocation function is not defined! You must run the cell containing the function before running this evaluation cell.') \n",
        "except TypeError as e: \n",
        "  print (\"The FindBusinessBasedOnLocation function is supposed to accept five arguments. Yours does not!\")\n",
        "try: \n",
        "  opf = open('output_loc_02.txt','r') \n",
        "except FileNotFoundError as e: \n",
        "  print (\"The FindBusinessBasedOnLocation function does not write data to the correct location.\")\n",
        "lines = opf.readlines()\n",
        "if len(lines) != 1: \n",
        "  print (\"The FindBusinessBasedOnLocation function does not find the correct number of results, should be only 1.\")\n",
        "lines = [line.strip() for line in lines]\n",
        "if sorted(lines) == sorted(true_results): \n",
        "  print (\"Correct! Your FindBusinessBasedOnLocation function passes these test cases. This does not cover all possible edge cases, so make sure your function does before submitting.\")\n"
      ],
      "metadata": {
        "colab": {
          "base_uri": "https://localhost:8080/"
        },
        "id": "DrP4yp4O0tTS",
        "outputId": "3b831f8e-4b2f-4f19-d0f8-40325aa19332"
      },
      "execution_count": 21,
      "outputs": [
        {
          "output_type": "stream",
          "name": "stdout",
          "text": [
            "Correct! Your FindBusinessBasedOnLocation function passes these test cases. This does not cover all possible edge cases, so make sure your function does before submitting.\n"
          ]
        }
      ]
    },
    {
      "cell_type": "code",
      "source": [
        "# Location test case 3\n",
        "\n",
        "true_results = ['The Seafood Market', 'P.croissants']\n",
        "try: \n",
        "  FindBusinessBasedOnLocation(['Food', 'Specialty Food'], [33.3482589, -111.9088346], 10, 'output_loc_03.txt', data) \n",
        "except NameError as e: \n",
        "  print ('The FindBusinessBasedOnLocation function is not defined! You must run the cell containing the function before running this evaluation cell.') \n",
        "except TypeError as e: \n",
        "  print (\"The FindBusinessBasedOnLocation function is supposed to accept five arguments. Yours does not!\")\n",
        "try: \n",
        "  opf = open('output_loc_03.txt','r') \n",
        "except FileNotFoundError as e: \n",
        "  print (\"The FindBusinessBasedOnLocation function does not write data to the correct location.\")\n",
        "lines = opf.readlines()\n",
        "if len(lines) != 2: \n",
        "  print (\"The FindBusinessBasedOnLocation function does not find the correct number of results, should be only 2.\")\n",
        "lines = [line.strip() for line in lines]\n",
        "if sorted(lines) == sorted(true_results): \n",
        "  print (\"Correct! Your FindBusinessBasedOnLocation function passes these test cases. This does not cover all possible edge cases, so make sure your function does before submitting.\")\n"
      ],
      "metadata": {
        "colab": {
          "base_uri": "https://localhost:8080/"
        },
        "id": "7l16VfoA1AkK",
        "outputId": "e82e7e0c-2159-4018-dbb6-b23746b63817"
      },
      "execution_count": 22,
      "outputs": [
        {
          "output_type": "stream",
          "name": "stdout",
          "text": [
            "Correct! Your FindBusinessBasedOnLocation function passes these test cases. This does not cover all possible edge cases, so make sure your function does before submitting.\n"
          ]
        }
      ]
    },
    {
      "cell_type": "code",
      "source": [],
      "metadata": {
        "id": "4dqRV7wa1Ucm"
      },
      "execution_count": null,
      "outputs": []
    }
  ]
}